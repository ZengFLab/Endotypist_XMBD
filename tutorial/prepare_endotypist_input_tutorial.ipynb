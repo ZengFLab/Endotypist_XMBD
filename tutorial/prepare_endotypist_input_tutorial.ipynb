{
 "cells": [
  {
   "cell_type": "code",
   "execution_count": 1,
   "metadata": {},
   "outputs": [
    {
     "data": {
      "text/html": [
       "<style type='text/css'>\n",
       ".datatable table.frame { margin-bottom: 0; }\n",
       ".datatable table.frame thead { border-bottom: none; }\n",
       ".datatable table.frame tr.coltypes td {  color: #FFFFFF;  line-height: 6px;  padding: 0 0.5em;}\n",
       ".datatable .bool    { background: #DDDD99; }\n",
       ".datatable .object  { background: #565656; }\n",
       ".datatable .int     { background: #5D9E5D; }\n",
       ".datatable .float   { background: #4040CC; }\n",
       ".datatable .str     { background: #CC4040; }\n",
       ".datatable .time    { background: #40CC40; }\n",
       ".datatable .row_index {  background: var(--jp-border-color3);  border-right: 1px solid var(--jp-border-color0);  color: var(--jp-ui-font-color3);  font-size: 9px;}\n",
       ".datatable .frame tbody td { text-align: left; }\n",
       ".datatable .frame tr.coltypes .row_index {  background: var(--jp-border-color0);}\n",
       ".datatable th:nth-child(2) { padding-left: 12px; }\n",
       ".datatable .hellipsis {  color: var(--jp-cell-editor-border-color);}\n",
       ".datatable .vellipsis {  background: var(--jp-layout-color0);  color: var(--jp-cell-editor-border-color);}\n",
       ".datatable .na {  color: var(--jp-cell-editor-border-color);  font-size: 80%;}\n",
       ".datatable .sp {  opacity: 0.25;}\n",
       ".datatable .footer { font-size: 9px; }\n",
       ".datatable .frame_dimensions {  background: var(--jp-border-color3);  border-top: 1px solid var(--jp-border-color0);  color: var(--jp-ui-font-color3);  display: inline-block;  opacity: 0.6;  padding: 1px 10px 1px 5px;}\n",
       "</style>\n"
      ],
      "text/plain": [
       "<IPython.core.display.HTML object>"
      ]
     },
     "metadata": {},
     "output_type": "display_data"
    }
   ],
   "source": [
    "import pandas as pd\n",
    "import scanpy as sc\n",
    "import anndata as ad\n",
    "\n",
    "import numpy as np\n",
    "from scipy.io import mmwrite\n",
    "\n",
    "import datatable as dt\n",
    "\n",
    "from sklearn.preprocessing import OneHotEncoder"
   ]
  },
  {
   "attachments": {},
   "cell_type": "markdown",
   "metadata": {},
   "source": [
    "## Firstly, loading the H5AD data file\n",
    "\n"
   ]
  },
  {
   "cell_type": "markdown",
   "metadata": {},
   "source": [
    "The H5AD file can be retrieved from [here](https://doi.org/10.6084/m9.figshare.24151701). This dataset comprises gene expression counts obtained from individuals exposed to diverse infections. It is created from the dataset provided by the COvid-19 Multi-omics Blood ATlas (COMBAT) Consortium. The original dataset is retrievable [here](https://doi.org/10.5281/zenodo.6120249)."
   ]
  },
  {
   "cell_type": "code",
   "execution_count": 2,
   "metadata": {},
   "outputs": [],
   "source": [
    "adata_gex = sc.read_h5ad('infection_endotype_data.h5ad')"
   ]
  },
  {
   "cell_type": "code",
   "execution_count": 7,
   "metadata": {},
   "outputs": [],
   "source": [
    "adata_gex.X = adata_gex.layers['raw'].copy()"
   ]
  },
  {
   "attachments": {},
   "cell_type": "markdown",
   "metadata": {},
   "source": [
    "## Secondly, normalizing gene expression and finding highly variable genes"
   ]
  },
  {
   "cell_type": "code",
   "execution_count": 12,
   "metadata": {},
   "outputs": [],
   "source": [
    "sc.pp.normalize_total(adata_gex, target_sum=1e6)\n",
    "sc.pp.log1p(adata_gex)\n",
    "sc.pp.highly_variable_genes(adata_gex, layer='raw', flavor='seurat_v3', n_top_genes=4000)"
   ]
  },
  {
   "attachments": {},
   "cell_type": "markdown",
   "metadata": {},
   "source": [
    "## Thirdly, saving data and metadata"
   ]
  },
  {
   "cell_type": "code",
   "execution_count": 13,
   "metadata": {},
   "outputs": [],
   "source": [
    "adata_gex.obs.to_csv('infection_endotype_meta.csv')"
   ]
  },
  {
   "cell_type": "code",
   "execution_count": 14,
   "metadata": {},
   "outputs": [],
   "source": [
    "df = pd.DataFrame(adata_gex.X[:,adata_gex.var.highly_variable].todense())\n",
    "dt.Frame(df).to_csv('infection_endotype.csv')"
   ]
  },
  {
   "cell_type": "code",
   "execution_count": 15,
   "metadata": {},
   "outputs": [],
   "source": [
    "df = pd.DataFrame(adata_gex.layers['raw'][:,adata_gex.var.highly_variable].todense())\n",
    "dt.Frame(df).to_csv('infection_endotype_counts.csv')"
   ]
  },
  {
   "cell_type": "code",
   "execution_count": 16,
   "metadata": {},
   "outputs": [],
   "source": [
    "adata_gex.obs_names.to_frame().to_csv('infection_endotype_cell.csv', index=None)\n",
    "adata_gex.var_names[adata_gex.var.highly_variable].to_frame().to_csv('infection_endotype_gene.csv', index=None)"
   ]
  },
  {
   "cell_type": "code",
   "execution_count": 21,
   "metadata": {},
   "outputs": [],
   "source": [
    "enc = OneHotEncoder(sparse=False).fit(adata_gex.obs['Severity'].to_numpy().reshape(-1,1))\n",
    "df=pd.DataFrame(enc.transform(adata_gex.obs['Severity'].to_numpy().reshape(-1,1)), columns=enc.categories_).to_csv('infection_endotype_phenotype.txt', index=False)"
   ]
  },
  {
   "cell_type": "code",
   "execution_count": 22,
   "metadata": {},
   "outputs": [],
   "source": [
    "enc = OneHotEncoder(sparse=False).fit(adata_gex.obs[['scRNASeq_sample_ID','Pool_ID']].to_numpy())\n",
    "factors=['scRNASeq_sample_ID','Pool_ID']\n",
    "colnames=[]\n",
    "for i in range(len(factors)):\n",
    "    col = [factors[i]+\"_\"+str(x) for x in enc.categories_[i]]\n",
    "    colnames.extend(col)\n",
    "\n",
    "pd.DataFrame(enc.transform(adata_gex.obs[['scRNASeq_sample_ID','Pool_ID']].to_numpy()), columns=colnames).to_csv('infection_endotype_uwv.txt', index=False)"
   ]
  }
 ],
 "metadata": {
  "kernelspec": {
   "display_name": "pyro",
   "language": "python",
   "name": "python3"
  },
  "language_info": {
   "codemirror_mode": {
    "name": "ipython",
    "version": 3
   },
   "file_extension": ".py",
   "mimetype": "text/x-python",
   "name": "python",
   "nbconvert_exporter": "python",
   "pygments_lexer": "ipython3",
   "version": "3.9.15"
  },
  "orig_nbformat": 4,
  "vscode": {
   "interpreter": {
    "hash": "d03eef04c985d8ab4426f825a8dbbd9cffdaab4d8d03e785ebbc93ce5d0d4ff1"
   }
  }
 },
 "nbformat": 4,
 "nbformat_minor": 2
}
